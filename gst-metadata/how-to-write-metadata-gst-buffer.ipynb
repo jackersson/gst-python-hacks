{
 "cells": [
  {
   "cell_type": "code",
   "execution_count": null,
   "metadata": {},
   "outputs": [],
   "source": [
    "import gi\n",
    "gi.require_version('Gst', '1.0')\n",
    "gi.require_version('GstBase', '1.0')\n",
    "from gi.repository import Gst, GObject, GstBase"
   ]
  },
  {
   "cell_type": "code",
   "execution_count": null,
   "metadata": {},
   "outputs": [],
   "source": [
    "Gst.init(None)"
   ]
  },
  {
   "cell_type": "code",
   "execution_count": null,
   "metadata": {},
   "outputs": [],
   "source": [
    "def test_gst_buffer_info_meta():\n",
    "    buffer = Gst.Buffer.new_wrapped(b\"datai\")\n",
    "    result = gst_buffer_get_buffer_info_meta(buffer)\n",
    "\n",
    "    assert isinstance(result, GstBufferInfo)\n",
    "    assert result.offset == 0\n",
    "    assert result.timestamp == 0\n",
    "    \n",
    "    # print(type(current_timestamp()))\n",
    "    offset, timestamp = 1, current_timestamp()\n",
    "    gst_buffer_write_buffer_info_meta(buffer, offset=offset, \n",
    "                                      timestamp=timestamp)\n",
    "\n",
    "    result = gst_buffer_get_buffer_info_meta(buffer)\n",
    "    # print(result.offset, result.timestamp)\n",
    "    assert isinstance(result, GstBufferInfo)\n",
    "    assert result.offset == offset\n",
    "    assert result.timestamp == timestamp"
   ]
  },
  {
   "cell_type": "code",
   "execution_count": null,
   "metadata": {},
   "outputs": [],
   "source": [
    "buffer = Gst.Buffer.new_wrapped(b\"lifestyletransfer\")"
   ]
  }
 ],
 "metadata": {
  "kernelspec": {
   "display_name": "Python 3",
   "language": "python",
   "name": "python3"
  },
  "language_info": {
   "codemirror_mode": {
    "name": "ipython",
    "version": 3
   },
   "file_extension": ".py",
   "mimetype": "text/x-python",
   "name": "python",
   "nbconvert_exporter": "python",
   "pygments_lexer": "ipython3",
   "version": "3.5.2"
  }
 },
 "nbformat": 4,
 "nbformat_minor": 2
}
