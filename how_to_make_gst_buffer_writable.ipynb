{
 "cells": [
  {
   "cell_type": "markdown",
   "metadata": {},
   "source": [
    "## How to make Gst.Buffer writable\n",
    "\n",
    "Explained: "
   ]
  },
  {
   "cell_type": "code",
   "execution_count": 6,
   "metadata": {},
   "outputs": [],
   "source": [
    "import gi\n",
    "gi.require_version('Gst', '1.0')\n",
    "gi.require_version('GstBase', '1.0')\n",
    "from gi.repository import Gst, GObject, GstBase"
   ]
  },
  {
   "cell_type": "code",
   "execution_count": 7,
   "metadata": {},
   "outputs": [
    {
     "data": {
      "text/plain": [
       "[]"
      ]
     },
     "execution_count": 7,
     "metadata": {},
     "output_type": "execute_result"
    }
   ],
   "source": [
    "Gst.init(None)"
   ]
  },
  {
   "cell_type": "markdown",
   "metadata": {},
   "source": [
    "### Problem"
   ]
  },
  {
   "cell_type": "code",
   "execution_count": 7,
   "metadata": {},
   "outputs": [],
   "source": [
    "buffer = Gst.Buffer.new_wrapped(b\"lifestyletransfer\")"
   ]
  },
  {
   "cell_type": "code",
   "execution_count": 15,
   "metadata": {},
   "outputs": [],
   "source": [
    "ret, map_info = buffer.map(Gst.MapFlags.READ | Gst.MapFlags.WRITE)"
   ]
  },
  {
   "cell_type": "code",
   "execution_count": 16,
   "metadata": {},
   "outputs": [
    {
     "data": {
      "text/plain": [
       "b'lifestyletransfer'"
      ]
     },
     "execution_count": 16,
     "metadata": {},
     "output_type": "execute_result"
    }
   ],
   "source": [
    "map_info.data"
   ]
  },
  {
   "cell_type": "code",
   "execution_count": 27,
   "metadata": {},
   "outputs": [
    {
     "ename": "TypeError",
     "evalue": "'bytes' object does not support item assignment",
     "output_type": "error",
     "traceback": [
      "\u001b[0;31m---------------------------------------------------------------------------\u001b[0m",
      "\u001b[0;31mTypeError\u001b[0m                                 Traceback (most recent call last)",
      "\u001b[0;32m<ipython-input-27-21a1793ef25a>\u001b[0m in \u001b[0;36m<module>\u001b[0;34m()\u001b[0m\n\u001b[0;32m----> 1\u001b[0;31m \u001b[0mmap_info\u001b[0m\u001b[0;34m.\u001b[0m\u001b[0mdata\u001b[0m\u001b[0;34m[\u001b[0m\u001b[0;36m0\u001b[0m\u001b[0;34m]\u001b[0m \u001b[0;34m=\u001b[0m \u001b[0;34m\"L\"\u001b[0m\u001b[0;34m\u001b[0m\u001b[0m\n\u001b[0m",
      "\u001b[0;31mTypeError\u001b[0m: 'bytes' object does not support item assignment"
     ]
    }
   ],
   "source": [
    "map_info.data[0] = \"L\""
   ]
  },
  {
   "cell_type": "markdown",
   "metadata": {},
   "source": [
    "### Solution"
   ]
  },
  {
   "cell_type": "code",
   "execution_count": 21,
   "metadata": {},
   "outputs": [],
   "source": [
    "from ctypes import *\n",
    "from contextlib import contextmanager"
   ]
  },
  {
   "cell_type": "code",
   "execution_count": 12,
   "metadata": {},
   "outputs": [],
   "source": [
    "GST_PADDING = 4"
   ]
  },
  {
   "cell_type": "code",
   "execution_count": 13,
   "metadata": {},
   "outputs": [],
   "source": [
    "libgst = ctypes.CDLL(\"libgstreamer-1.0.so.0\")"
   ]
  },
  {
   "cell_type": "code",
   "execution_count": 16,
   "metadata": {},
   "outputs": [],
   "source": [
    "class GstMapInfo(Structure):\n",
    "    _fields_ = [(\"memory\", c_void_p),        # GstMemory *memory\n",
    "                (\"flags\", c_int),            # GstMapFlags flags\n",
    "                (\"data\", POINTER(c_byte)),   # guint8 *data\n",
    "                (\"size\", c_size_t),          # gsize size\n",
    "                (\"maxsize\", c_size_t),       # gsize maxsize\n",
    "                (\"user_data\", c_void_p * 4), # gpointer user_data[4]\n",
    "                (\"_gst_reserved\", c_void_p * GST_PADDING)]"
   ]
  },
  {
   "cell_type": "code",
   "execution_count": 17,
   "metadata": {},
   "outputs": [],
   "source": [
    "GST_MAP_INFO_POINTER = POINTER(GstMapInfo)"
   ]
  },
  {
   "cell_type": "code",
   "execution_count": 18,
   "metadata": {},
   "outputs": [],
   "source": [
    "# gst_buffer_map\n",
    "libgst.gst_buffer_map.argtypes = [c_void_p, GST_MAP_INFO_POINTER, c_int]\n",
    "libgst.gst_buffer_map.restype = c_bool\n",
    "\n",
    "# gst_buffer_unmap\n",
    "libgst.gst_buffer_unmap.argtypes = [c_void_p, GST_MAP_INFO_POINTER]\n",
    "libgst.gst_buffer_unmap.restype = None\n",
    "\n",
    "# gst_mini_object_is_writable\n",
    "libgst.gst_mini_object_is_writable.argtypes = [c_void_p]\n",
    "libgst.gst_mini_object_is_writable.restype = c_bool"
   ]
  },
  {
   "cell_type": "code",
   "execution_count": 22,
   "metadata": {},
   "outputs": [],
   "source": [
    "@contextmanager\n",
    "def map_gst_buffer(pbuffer, flags):\n",
    "    if pbuffer is None:\n",
    "        raiseTypeError(\"Cannot pass NULL to _map_gst_buffer\")\n",
    "\n",
    "    ptr = hash(pbuffer)\n",
    "    if flags & Gst.MapFlags.WRITE and libgst.gst_mini_object_is_writable(ptr) == 0:\n",
    "        raiseValueError(\"Writable array requested but buffer is not writeable\")\n",
    "\n",
    "    mapping = GstMapInfo()\n",
    "    success = libgst.gst_buffer_map(ptr, mapping, flags)\n",
    "\n",
    "    if not success:\n",
    "        raiseRuntimeError(\"Couldn't map buffer\")\n",
    "\n",
    "    try:\n",
    "        yield cast(mapping.data, POINTER(c_byte * mapping.size)).contents\n",
    "    finally:\n",
    "        libgst.gst_buffer_unmap(ptr, mapping)"
   ]
  },
  {
   "cell_type": "code",
   "execution_count": 37,
   "metadata": {},
   "outputs": [],
   "source": [
    "buffer = Gst.Buffer.new_wrapped(b\"lifestyletransfer\")"
   ]
  },
  {
   "cell_type": "code",
   "execution_count": 47,
   "metadata": {},
   "outputs": [],
   "source": [
    "with map_gst_buffer(buffer, Gst.MapFlags.READ | Gst.MapFlags.WRITE) as mapped:\n",
    "    mapped[0] = ord('L')\n",
    "    mapped[4] = ord('S')\n",
    "    mapped[9] = ord('T')"
   ]
  },
  {
   "cell_type": "code",
   "execution_count": 48,
   "metadata": {},
   "outputs": [
    {
     "name": "stdout",
     "output_type": "stream",
     "text": [
      "b'LifeStyleTransfer'\n"
     ]
    }
   ],
   "source": [
    "ret, map_info = buffer.map(Gst.MapFlags.READ)\n",
    "print(map_info.data)"
   ]
  },
  {
   "cell_type": "code",
   "execution_count": null,
   "metadata": {},
   "outputs": [],
   "source": []
  }
 ],
 "metadata": {
  "kernelspec": {
   "display_name": "Python 3",
   "language": "python",
   "name": "python3"
  },
  "language_info": {
   "codemirror_mode": {
    "name": "ipython",
    "version": 3
   },
   "file_extension": ".py",
   "mimetype": "text/x-python",
   "name": "python",
   "nbconvert_exporter": "python",
   "pygments_lexer": "ipython3",
   "version": "3.5.2"
  }
 },
 "nbformat": 4,
 "nbformat_minor": 2
}
